{
  "nbformat": 4,
  "nbformat_minor": 0,
  "metadata": {
    "colab": {
      "provenance": [],
      "authorship_tag": "ABX9TyNn1BR/dXoVy75tinXbtA1+",
      "include_colab_link": true
    },
    "kernelspec": {
      "name": "python3",
      "display_name": "Python 3"
    },
    "language_info": {
      "name": "python"
    }
  },
  "cells": [
    {
      "cell_type": "markdown",
      "metadata": {
        "id": "view-in-github",
        "colab_type": "text"
      },
      "source": [
        "<a href=\"https://colab.research.google.com/github/mcadriaans/SQL_repo/blob/main/Using_SQLite_Database_cursor.ipynb\" target=\"_parent\"><img src=\"https://colab.research.google.com/assets/colab-badge.svg\" alt=\"Open In Colab\"/></a>"
      ]
    },
    {
      "cell_type": "code",
      "source": [
        "# Import library\n",
        "import sqlite3\n",
        "\n",
        "# Connect to SQLite database; use ':memory:' for an in-memory database\n",
        "conn = sqlite3.connect(':memory:')"
      ],
      "metadata": {
        "id": "Hi0T5HIKp85n"
      },
      "execution_count": 4,
      "outputs": []
    },
    {
      "cell_type": "markdown",
      "source": [
        "With the connection established we can now <b>create a table </b>. Let's create a table named stocks with five columns:\n",
        "*  date,\n",
        "* trans,\n",
        "* symbol,\n",
        "* qty,\n",
        "* price"
      ],
      "metadata": {
        "id": "_tPBrwRdrFXT"
      }
    },
    {
      "cell_type": "code",
      "source": [
        "# Execute a SQL command to create a new table\n",
        "c = conn.cursor()\n",
        "c.execute ('''\n",
        "            CREATE TABLE stocks(\n",
        "              date text,\n",
        "              trans text,\n",
        "              symbol text,\n",
        "              qty real,\n",
        "              price real\n",
        "            )\n",
        "\n",
        "''')"
      ],
      "metadata": {
        "colab": {
          "base_uri": "https://localhost:8080/"
        },
        "id": "POZioT5_rkpJ",
        "outputId": "ccf7a307-87ea-4085-d7d1-dc967f9f65b0"
      },
      "execution_count": 5,
      "outputs": [
        {
          "output_type": "execute_result",
          "data": {
            "text/plain": [
              "<sqlite3.Cursor at 0x7a477048b4c0>"
            ]
          },
          "metadata": {},
          "execution_count": 5
        }
      ]
    }
  ]
}