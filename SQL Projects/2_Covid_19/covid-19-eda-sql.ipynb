{
 "cells": [
  {
   "cell_type": "code",
   "execution_count": 1,
   "id": "8953cad0",
   "metadata": {
    "_cell_guid": "b1076dfc-b9ad-4769-8c92-a6c4dae69d19",
    "_uuid": "8f2839f25d086af736a60e9eeb907d3b93b6e0e5",
    "execution": {
     "iopub.execute_input": "2024-03-22T16:51:26.120951Z",
     "iopub.status.busy": "2024-03-22T16:51:26.120119Z",
     "iopub.status.idle": "2024-03-22T16:51:27.160860Z",
     "shell.execute_reply": "2024-03-22T16:51:27.159191Z"
    },
    "papermill": {
     "duration": 1.059771,
     "end_time": "2024-03-22T16:51:27.163500",
     "exception": false,
     "start_time": "2024-03-22T16:51:26.103729",
     "status": "completed"
    },
    "tags": []
   },
   "outputs": [
    {
     "name": "stdout",
     "output_type": "stream",
     "text": [
      "/kaggle/input/covid19-coronavirus-pandemic/COVID-19 Coronavirus.csv\n"
     ]
    }
   ],
   "source": [
    "# This Python 3 environment comes with many helpful analytics libraries installed\n",
    "# It is defined by the kaggle/python Docker image: https://github.com/kaggle/docker-python\n",
    "# For example, here's several helpful packages to load\n",
    "\n",
    "import numpy as np # linear algebra\n",
    "import pandas as pd # data processing, CSV file I/O (e.g. pd.read_csv)\n",
    "\n",
    "# Input data files are available in the read-only \"../input/\" directory\n",
    "# For example, running this (by clicking run or pressing Shift+Enter) will list all files under the input directory\n",
    "\n",
    "import os\n",
    "for dirname, _, filenames in os.walk('/kaggle/input'):\n",
    "    for filename in filenames:\n",
    "        print(os.path.join(dirname, filename))\n",
    "\n",
    "# You can write up to 20GB to the current directory (/kaggle/working/) that gets preserved as output when you create a version using \"Save & Run All\" \n",
    "# You can also write temporary files to /kaggle/temp/, but they won't be saved outside of the current session"
   ]
  },
  {
   "cell_type": "code",
   "execution_count": 2,
   "id": "ddd1301a",
   "metadata": {
    "execution": {
     "iopub.execute_input": "2024-03-22T16:51:27.193981Z",
     "iopub.status.busy": "2024-03-22T16:51:27.193286Z",
     "iopub.status.idle": "2024-03-22T16:51:44.754539Z",
     "shell.execute_reply": "2024-03-22T16:51:44.752964Z"
    },
    "papermill": {
     "duration": 17.580066,
     "end_time": "2024-03-22T16:51:44.757816",
     "exception": false,
     "start_time": "2024-03-22T16:51:27.177750",
     "status": "completed"
    },
    "tags": []
   },
   "outputs": [
    {
     "name": "stdout",
     "output_type": "stream",
     "text": [
      "Requirement already satisfied: ipython-sql in /opt/conda/lib/python3.10/site-packages (0.5.0)\r\n",
      "Requirement already satisfied: prettytable in /opt/conda/lib/python3.10/site-packages (from ipython-sql) (3.9.0)\r\n",
      "Requirement already satisfied: ipython in /opt/conda/lib/python3.10/site-packages (from ipython-sql) (8.20.0)\r\n",
      "Requirement already satisfied: sqlalchemy>=2.0 in /opt/conda/lib/python3.10/site-packages (from ipython-sql) (2.0.25)\r\n",
      "Requirement already satisfied: sqlparse in /opt/conda/lib/python3.10/site-packages (from ipython-sql) (0.4.4)\r\n",
      "Requirement already satisfied: six in /opt/conda/lib/python3.10/site-packages (from ipython-sql) (1.16.0)\r\n",
      "Requirement already satisfied: ipython-genutils in /opt/conda/lib/python3.10/site-packages (from ipython-sql) (0.2.0)\r\n",
      "Requirement already satisfied: typing-extensions>=4.6.0 in /opt/conda/lib/python3.10/site-packages (from sqlalchemy>=2.0->ipython-sql) (4.9.0)\r\n",
      "Requirement already satisfied: greenlet!=0.4.17 in /opt/conda/lib/python3.10/site-packages (from sqlalchemy>=2.0->ipython-sql) (3.0.3)\r\n",
      "Requirement already satisfied: decorator in /opt/conda/lib/python3.10/site-packages (from ipython->ipython-sql) (5.1.1)\r\n",
      "Requirement already satisfied: jedi>=0.16 in /opt/conda/lib/python3.10/site-packages (from ipython->ipython-sql) (0.19.1)\r\n",
      "Requirement already satisfied: matplotlib-inline in /opt/conda/lib/python3.10/site-packages (from ipython->ipython-sql) (0.1.6)\r\n",
      "Requirement already satisfied: prompt-toolkit<3.1.0,>=3.0.41 in /opt/conda/lib/python3.10/site-packages (from ipython->ipython-sql) (3.0.42)\r\n",
      "Requirement already satisfied: pygments>=2.4.0 in /opt/conda/lib/python3.10/site-packages (from ipython->ipython-sql) (2.17.2)\r\n",
      "Requirement already satisfied: stack-data in /opt/conda/lib/python3.10/site-packages (from ipython->ipython-sql) (0.6.2)\r\n",
      "Requirement already satisfied: traitlets>=5 in /opt/conda/lib/python3.10/site-packages (from ipython->ipython-sql) (5.9.0)\r\n",
      "Requirement already satisfied: exceptiongroup in /opt/conda/lib/python3.10/site-packages (from ipython->ipython-sql) (1.2.0)\r\n",
      "Requirement already satisfied: pexpect>4.3 in /opt/conda/lib/python3.10/site-packages (from ipython->ipython-sql) (4.8.0)\r\n",
      "Requirement already satisfied: wcwidth in /opt/conda/lib/python3.10/site-packages (from prettytable->ipython-sql) (0.2.13)\r\n",
      "Requirement already satisfied: parso<0.9.0,>=0.8.3 in /opt/conda/lib/python3.10/site-packages (from jedi>=0.16->ipython->ipython-sql) (0.8.3)\r\n",
      "Requirement already satisfied: ptyprocess>=0.5 in /opt/conda/lib/python3.10/site-packages (from pexpect>4.3->ipython->ipython-sql) (0.7.0)\r\n",
      "Requirement already satisfied: executing>=1.2.0 in /opt/conda/lib/python3.10/site-packages (from stack-data->ipython->ipython-sql) (2.0.1)\r\n",
      "Requirement already satisfied: asttokens>=2.1.0 in /opt/conda/lib/python3.10/site-packages (from stack-data->ipython->ipython-sql) (2.4.1)\r\n",
      "Requirement already satisfied: pure-eval in /opt/conda/lib/python3.10/site-packages (from stack-data->ipython->ipython-sql) (0.2.2)\r\n"
     ]
    }
   ],
   "source": [
    "# This package integrates SQL with IPython Notebook\n",
    "!pip install ipython-sql"
   ]
  },
  {
   "cell_type": "code",
   "execution_count": 3,
   "id": "00f76ee6",
   "metadata": {
    "execution": {
     "iopub.execute_input": "2024-03-22T16:51:44.790558Z",
     "iopub.status.busy": "2024-03-22T16:51:44.789968Z",
     "iopub.status.idle": "2024-03-22T16:51:45.595625Z",
     "shell.execute_reply": "2024-03-22T16:51:45.593799Z"
    },
    "papermill": {
     "duration": 0.826815,
     "end_time": "2024-03-22T16:51:45.599784",
     "exception": false,
     "start_time": "2024-03-22T16:51:44.772969",
     "status": "completed"
    },
    "tags": []
   },
   "outputs": [],
   "source": [
    "# Provides a source od database connectivity\n",
    "from sqlalchemy import create_engine\n",
    "\n",
    "# Working with SQLite database in Python \n",
    "import sqlite3"
   ]
  },
  {
   "cell_type": "markdown",
   "id": "ecef3bf7",
   "metadata": {
    "papermill": {
     "duration": 0.019376,
     "end_time": "2024-03-22T16:51:45.639926",
     "exception": false,
     "start_time": "2024-03-22T16:51:45.620550",
     "status": "completed"
    },
    "tags": []
   },
   "source": [
    "# Load and Understand the Data"
   ]
  },
  {
   "cell_type": "code",
   "execution_count": 4,
   "id": "c9f8c3b4",
   "metadata": {
    "execution": {
     "iopub.execute_input": "2024-03-22T16:51:45.674104Z",
     "iopub.status.busy": "2024-03-22T16:51:45.673062Z",
     "iopub.status.idle": "2024-03-22T16:51:45.719764Z",
     "shell.execute_reply": "2024-03-22T16:51:45.718563Z"
    },
    "papermill": {
     "duration": 0.068589,
     "end_time": "2024-03-22T16:51:45.723627",
     "exception": false,
     "start_time": "2024-03-22T16:51:45.655038",
     "status": "completed"
    },
    "tags": []
   },
   "outputs": [
    {
     "data": {
      "text/html": [
       "<div>\n",
       "<style scoped>\n",
       "    .dataframe tbody tr th:only-of-type {\n",
       "        vertical-align: middle;\n",
       "    }\n",
       "\n",
       "    .dataframe tbody tr th {\n",
       "        vertical-align: top;\n",
       "    }\n",
       "\n",
       "    .dataframe thead th {\n",
       "        text-align: right;\n",
       "    }\n",
       "</style>\n",
       "<table border=\"1\" class=\"dataframe\">\n",
       "  <thead>\n",
       "    <tr style=\"text-align: right;\">\n",
       "      <th></th>\n",
       "      <th>Country</th>\n",
       "      <th>Other names</th>\n",
       "      <th>ISO 3166-1 alpha-3 CODE</th>\n",
       "      <th>Population</th>\n",
       "      <th>Continent</th>\n",
       "      <th>Total Cases</th>\n",
       "      <th>Total Deaths</th>\n",
       "      <th>Tot Cases//1M pop</th>\n",
       "      <th>Tot Deaths/1M pop</th>\n",
       "      <th>Death percentage</th>\n",
       "    </tr>\n",
       "  </thead>\n",
       "  <tbody>\n",
       "    <tr>\n",
       "      <th>0</th>\n",
       "      <td>Afghanistan</td>\n",
       "      <td>Afghanistan</td>\n",
       "      <td>AFG</td>\n",
       "      <td>40462186</td>\n",
       "      <td>Asia</td>\n",
       "      <td>177827</td>\n",
       "      <td>7671</td>\n",
       "      <td>4395</td>\n",
       "      <td>190</td>\n",
       "      <td>4.313743</td>\n",
       "    </tr>\n",
       "    <tr>\n",
       "      <th>1</th>\n",
       "      <td>Albania</td>\n",
       "      <td>Albania</td>\n",
       "      <td>ALB</td>\n",
       "      <td>2872296</td>\n",
       "      <td>Europe</td>\n",
       "      <td>273870</td>\n",
       "      <td>3492</td>\n",
       "      <td>95349</td>\n",
       "      <td>1216</td>\n",
       "      <td>1.275058</td>\n",
       "    </tr>\n",
       "    <tr>\n",
       "      <th>2</th>\n",
       "      <td>Algeria</td>\n",
       "      <td>Algeria</td>\n",
       "      <td>DZA</td>\n",
       "      <td>45236699</td>\n",
       "      <td>Africa</td>\n",
       "      <td>265691</td>\n",
       "      <td>6874</td>\n",
       "      <td>5873</td>\n",
       "      <td>152</td>\n",
       "      <td>2.587216</td>\n",
       "    </tr>\n",
       "    <tr>\n",
       "      <th>3</th>\n",
       "      <td>Andorra</td>\n",
       "      <td>Andorra</td>\n",
       "      <td>AND</td>\n",
       "      <td>77481</td>\n",
       "      <td>Europe</td>\n",
       "      <td>40024</td>\n",
       "      <td>153</td>\n",
       "      <td>516565</td>\n",
       "      <td>1975</td>\n",
       "      <td>0.382271</td>\n",
       "    </tr>\n",
       "    <tr>\n",
       "      <th>4</th>\n",
       "      <td>Angola</td>\n",
       "      <td>Angola</td>\n",
       "      <td>AGO</td>\n",
       "      <td>34654212</td>\n",
       "      <td>Africa</td>\n",
       "      <td>99194</td>\n",
       "      <td>1900</td>\n",
       "      <td>2862</td>\n",
       "      <td>55</td>\n",
       "      <td>1.915438</td>\n",
       "    </tr>\n",
       "  </tbody>\n",
       "</table>\n",
       "</div>"
      ],
      "text/plain": [
       "       Country  Other names ISO 3166-1 alpha-3 CODE  Population Continent  \\\n",
       "0  Afghanistan  Afghanistan                     AFG    40462186      Asia   \n",
       "1      Albania      Albania                     ALB     2872296    Europe   \n",
       "2      Algeria      Algeria                     DZA    45236699    Africa   \n",
       "3      Andorra      Andorra                     AND       77481    Europe   \n",
       "4       Angola       Angola                     AGO    34654212    Africa   \n",
       "\n",
       "   Total Cases  Total Deaths  Tot Cases//1M pop  Tot Deaths/1M pop  \\\n",
       "0       177827          7671               4395                190   \n",
       "1       273870          3492              95349               1216   \n",
       "2       265691          6874               5873                152   \n",
       "3        40024           153             516565               1975   \n",
       "4        99194          1900               2862                 55   \n",
       "\n",
       "   Death percentage  \n",
       "0          4.313743  \n",
       "1          1.275058  \n",
       "2          2.587216  \n",
       "3          0.382271  \n",
       "4          1.915438  "
      ]
     },
     "execution_count": 4,
     "metadata": {},
     "output_type": "execute_result"
    }
   ],
   "source": [
    "data = pd.read_csv('/kaggle/input/covid19-coronavirus-pandemic/COVID-19 Coronavirus.csv')\n",
    "data.head()"
   ]
  },
  {
   "cell_type": "code",
   "execution_count": 5,
   "id": "debb9829",
   "metadata": {
    "execution": {
     "iopub.execute_input": "2024-03-22T16:51:45.759182Z",
     "iopub.status.busy": "2024-03-22T16:51:45.758354Z",
     "iopub.status.idle": "2024-03-22T16:51:45.766362Z",
     "shell.execute_reply": "2024-03-22T16:51:45.765260Z"
    },
    "papermill": {
     "duration": 0.027104,
     "end_time": "2024-03-22T16:51:45.768691",
     "exception": false,
     "start_time": "2024-03-22T16:51:45.741587",
     "status": "completed"
    },
    "tags": []
   },
   "outputs": [
    {
     "data": {
      "text/plain": [
       "(225, 10)"
      ]
     },
     "execution_count": 5,
     "metadata": {},
     "output_type": "execute_result"
    }
   ],
   "source": [
    "data.shape"
   ]
  },
  {
   "cell_type": "code",
   "execution_count": 6,
   "id": "956728e2",
   "metadata": {
    "execution": {
     "iopub.execute_input": "2024-03-22T16:51:45.802249Z",
     "iopub.status.busy": "2024-03-22T16:51:45.801767Z",
     "iopub.status.idle": "2024-03-22T16:51:45.809199Z",
     "shell.execute_reply": "2024-03-22T16:51:45.807949Z"
    },
    "papermill": {
     "duration": 0.028523,
     "end_time": "2024-03-22T16:51:45.812689",
     "exception": false,
     "start_time": "2024-03-22T16:51:45.784166",
     "status": "completed"
    },
    "tags": []
   },
   "outputs": [
    {
     "data": {
      "text/plain": [
       "Index(['Country', 'Other names', 'ISO 3166-1 alpha-3 CODE', 'Population',\n",
       "       'Continent', 'Total Cases', 'Total Deaths', 'Tot Cases//1M pop',\n",
       "       'Tot Deaths/1M pop', 'Death percentage'],\n",
       "      dtype='object')"
      ]
     },
     "execution_count": 6,
     "metadata": {},
     "output_type": "execute_result"
    }
   ],
   "source": [
    "data.columns"
   ]
  },
  {
   "cell_type": "code",
   "execution_count": 7,
   "id": "e28981d8",
   "metadata": {
    "execution": {
     "iopub.execute_input": "2024-03-22T16:51:45.847072Z",
     "iopub.status.busy": "2024-03-22T16:51:45.846572Z",
     "iopub.status.idle": "2024-03-22T16:51:45.891503Z",
     "shell.execute_reply": "2024-03-22T16:51:45.890350Z"
    },
    "papermill": {
     "duration": 0.066244,
     "end_time": "2024-03-22T16:51:45.894774",
     "exception": false,
     "start_time": "2024-03-22T16:51:45.828530",
     "status": "completed"
    },
    "tags": []
   },
   "outputs": [
    {
     "name": "stdout",
     "output_type": "stream",
     "text": [
      "<class 'pandas.core.frame.DataFrame'>\n",
      "RangeIndex: 225 entries, 0 to 224\n",
      "Data columns (total 10 columns):\n",
      " #   Column                   Non-Null Count  Dtype  \n",
      "---  ------                   --------------  -----  \n",
      " 0   Country                  225 non-null    object \n",
      " 1   Other names              224 non-null    object \n",
      " 2   ISO 3166-1 alpha-3 CODE  225 non-null    object \n",
      " 3   Population               225 non-null    int64  \n",
      " 4   Continent                225 non-null    object \n",
      " 5   Total Cases              225 non-null    int64  \n",
      " 6   Total Deaths             225 non-null    int64  \n",
      " 7   Tot Cases//1M pop        225 non-null    int64  \n",
      " 8   Tot Deaths/1M pop        225 non-null    int64  \n",
      " 9   Death percentage         225 non-null    float64\n",
      "dtypes: float64(1), int64(5), object(4)\n",
      "memory usage: 17.7+ KB\n"
     ]
    }
   ],
   "source": [
    "data.info()"
   ]
  },
  {
   "cell_type": "markdown",
   "id": "8a6b9cfa",
   "metadata": {
    "papermill": {
     "duration": 0.015592,
     "end_time": "2024-03-22T16:51:45.926232",
     "exception": false,
     "start_time": "2024-03-22T16:51:45.910640",
     "status": "completed"
    },
    "tags": []
   },
   "source": [
    "# Data Cleaning"
   ]
  },
  {
   "cell_type": "markdown",
   "id": "45902b16",
   "metadata": {
    "papermill": {
     "duration": 0.015782,
     "end_time": "2024-03-22T16:51:45.958441",
     "exception": false,
     "start_time": "2024-03-22T16:51:45.942659",
     "status": "completed"
    },
    "tags": []
   },
   "source": [
    "## 1. Check for duplicates"
   ]
  },
  {
   "cell_type": "code",
   "execution_count": 8,
   "id": "f18def8a",
   "metadata": {
    "execution": {
     "iopub.execute_input": "2024-03-22T16:51:45.993863Z",
     "iopub.status.busy": "2024-03-22T16:51:45.993353Z",
     "iopub.status.idle": "2024-03-22T16:51:46.005814Z",
     "shell.execute_reply": "2024-03-22T16:51:46.004867Z"
    },
    "papermill": {
     "duration": 0.035229,
     "end_time": "2024-03-22T16:51:46.009804",
     "exception": false,
     "start_time": "2024-03-22T16:51:45.974575",
     "status": "completed"
    },
    "tags": []
   },
   "outputs": [
    {
     "data": {
      "text/plain": [
       "0"
      ]
     },
     "execution_count": 8,
     "metadata": {},
     "output_type": "execute_result"
    }
   ],
   "source": [
    "# Calculate the nr of duplicate rows in 'data'\n",
    "data.duplicated().sum()"
   ]
  },
  {
   "cell_type": "markdown",
   "id": "d0e40cf3",
   "metadata": {
    "papermill": {
     "duration": 0.01671,
     "end_time": "2024-03-22T16:51:46.044297",
     "exception": false,
     "start_time": "2024-03-22T16:51:46.027587",
     "status": "completed"
    },
    "tags": []
   },
   "source": [
    "## 2. Fix column names"
   ]
  },
  {
   "cell_type": "code",
   "execution_count": 9,
   "id": "aecc67c1",
   "metadata": {
    "execution": {
     "iopub.execute_input": "2024-03-22T16:51:46.083327Z",
     "iopub.status.busy": "2024-03-22T16:51:46.079311Z",
     "iopub.status.idle": "2024-03-22T16:51:46.091945Z",
     "shell.execute_reply": "2024-03-22T16:51:46.090701Z"
    },
    "papermill": {
     "duration": 0.034291,
     "end_time": "2024-03-22T16:51:46.094688",
     "exception": false,
     "start_time": "2024-03-22T16:51:46.060397",
     "status": "completed"
    },
    "tags": []
   },
   "outputs": [
    {
     "data": {
      "text/plain": [
       "Index(['Country', 'Other names', 'ISO 3166-1 alpha-3 CODE', 'Population',\n",
       "       'Continent', 'Total Cases', 'Total Deaths', 'Tot Cases//1M pop',\n",
       "       'Tot Deaths/1M pop', 'Death percentage'],\n",
       "      dtype='object')"
      ]
     },
     "execution_count": 9,
     "metadata": {},
     "output_type": "execute_result"
    }
   ],
   "source": [
    "data.columns"
   ]
  },
  {
   "cell_type": "code",
   "execution_count": 10,
   "id": "c02382ce",
   "metadata": {
    "execution": {
     "iopub.execute_input": "2024-03-22T16:51:46.132571Z",
     "iopub.status.busy": "2024-03-22T16:51:46.131431Z",
     "iopub.status.idle": "2024-03-22T16:51:46.141594Z",
     "shell.execute_reply": "2024-03-22T16:51:46.140377Z"
    },
    "papermill": {
     "duration": 0.031234,
     "end_time": "2024-03-22T16:51:46.144413",
     "exception": false,
     "start_time": "2024-03-22T16:51:46.113179",
     "status": "completed"
    },
    "tags": []
   },
   "outputs": [],
   "source": [
    "# Rename columns\n",
    "data.rename(columns = {'Tot\\xa0Cases//1M pop' : 'Total Cases per 1M pop',\n",
    "                    'Tot\\xa0Deaths/1M pop': 'Total Deaths per 1M pop'}, inplace=True)\n",
    "\n",
    "# Convert column names to lower case\n",
    "data.columns = data.columns.str.lower()\n",
    "\n",
    "# Replace spaces with underscore\n",
    "data.columns = data.columns.str.replace(' ', '_')\n",
    "\n"
   ]
  },
  {
   "cell_type": "code",
   "execution_count": 11,
   "id": "f2140f2b",
   "metadata": {
    "execution": {
     "iopub.execute_input": "2024-03-22T16:51:46.179074Z",
     "iopub.status.busy": "2024-03-22T16:51:46.178038Z",
     "iopub.status.idle": "2024-03-22T16:51:46.186571Z",
     "shell.execute_reply": "2024-03-22T16:51:46.185455Z"
    },
    "papermill": {
     "duration": 0.028846,
     "end_time": "2024-03-22T16:51:46.189061",
     "exception": false,
     "start_time": "2024-03-22T16:51:46.160215",
     "status": "completed"
    },
    "tags": []
   },
   "outputs": [
    {
     "data": {
      "text/plain": [
       "Index(['country', 'other_names', 'iso_3166-1_alpha-3_code', 'population',\n",
       "       'continent', 'total_cases', 'total_deaths', 'total_cases_per_1m_pop',\n",
       "       'total_deaths_per_1m_pop', 'death_percentage'],\n",
       "      dtype='object')"
      ]
     },
     "execution_count": 11,
     "metadata": {},
     "output_type": "execute_result"
    }
   ],
   "source": [
    "data.columns"
   ]
  },
  {
   "cell_type": "markdown",
   "id": "dadadbe3",
   "metadata": {
    "papermill": {
     "duration": 0.016178,
     "end_time": "2024-03-22T16:51:46.221934",
     "exception": false,
     "start_time": "2024-03-22T16:51:46.205756",
     "status": "completed"
    },
    "tags": []
   },
   "source": [
    "## 3. Check for Missing Values"
   ]
  },
  {
   "cell_type": "code",
   "execution_count": 12,
   "id": "3dbfdeb5",
   "metadata": {
    "execution": {
     "iopub.execute_input": "2024-03-22T16:51:46.257993Z",
     "iopub.status.busy": "2024-03-22T16:51:46.256886Z",
     "iopub.status.idle": "2024-03-22T16:51:46.269059Z",
     "shell.execute_reply": "2024-03-22T16:51:46.267737Z"
    },
    "papermill": {
     "duration": 0.032956,
     "end_time": "2024-03-22T16:51:46.271847",
     "exception": false,
     "start_time": "2024-03-22T16:51:46.238891",
     "status": "completed"
    },
    "tags": []
   },
   "outputs": [
    {
     "data": {
      "text/plain": [
       "country                    0\n",
       "other_names                1\n",
       "iso_3166-1_alpha-3_code    0\n",
       "population                 0\n",
       "continent                  0\n",
       "total_cases                0\n",
       "total_deaths               0\n",
       "total_cases_per_1m_pop     0\n",
       "total_deaths_per_1m_pop    0\n",
       "death_percentage           0\n",
       "dtype: int64"
      ]
     },
     "execution_count": 12,
     "metadata": {},
     "output_type": "execute_result"
    }
   ],
   "source": [
    "data.isnull().sum()"
   ]
  },
  {
   "cell_type": "code",
   "execution_count": 13,
   "id": "12b7a4d0",
   "metadata": {
    "execution": {
     "iopub.execute_input": "2024-03-22T16:51:46.307722Z",
     "iopub.status.busy": "2024-03-22T16:51:46.306620Z",
     "iopub.status.idle": "2024-03-22T16:51:46.315806Z",
     "shell.execute_reply": "2024-03-22T16:51:46.314554Z"
    },
    "papermill": {
     "duration": 0.0304,
     "end_time": "2024-03-22T16:51:46.318439",
     "exception": false,
     "start_time": "2024-03-22T16:51:46.288039",
     "status": "completed"
    },
    "tags": []
   },
   "outputs": [
    {
     "data": {
      "text/plain": [
       "Index(['country', 'other_names', 'iso_3166-1_alpha-3_code', 'population',\n",
       "       'continent', 'total_cases', 'total_deaths', 'total_cases_per_1m_pop',\n",
       "       'total_deaths_per_1m_pop', 'death_percentage'],\n",
       "      dtype='object')"
      ]
     },
     "execution_count": 13,
     "metadata": {},
     "output_type": "execute_result"
    }
   ],
   "source": [
    "data.columns"
   ]
  },
  {
   "cell_type": "code",
   "execution_count": 14,
   "id": "6ef04ed2",
   "metadata": {
    "execution": {
     "iopub.execute_input": "2024-03-22T16:51:46.354381Z",
     "iopub.status.busy": "2024-03-22T16:51:46.353289Z",
     "iopub.status.idle": "2024-03-22T16:51:46.377012Z",
     "shell.execute_reply": "2024-03-22T16:51:46.375823Z"
    },
    "papermill": {
     "duration": 0.044555,
     "end_time": "2024-03-22T16:51:46.379465",
     "exception": false,
     "start_time": "2024-03-22T16:51:46.334910",
     "status": "completed"
    },
    "tags": []
   },
   "outputs": [
    {
     "data": {
      "text/html": [
       "<div>\n",
       "<style scoped>\n",
       "    .dataframe tbody tr th:only-of-type {\n",
       "        vertical-align: middle;\n",
       "    }\n",
       "\n",
       "    .dataframe tbody tr th {\n",
       "        vertical-align: top;\n",
       "    }\n",
       "\n",
       "    .dataframe thead th {\n",
       "        text-align: right;\n",
       "    }\n",
       "</style>\n",
       "<table border=\"1\" class=\"dataframe\">\n",
       "  <thead>\n",
       "    <tr style=\"text-align: right;\">\n",
       "      <th></th>\n",
       "      <th>continent</th>\n",
       "      <th>country</th>\n",
       "      <th>population</th>\n",
       "      <th>total_cases</th>\n",
       "      <th>total_cases_per_1m_pop</th>\n",
       "      <th>total_deaths</th>\n",
       "      <th>total_deaths_per_1m_pop</th>\n",
       "      <th>death_percentage</th>\n",
       "    </tr>\n",
       "  </thead>\n",
       "  <tbody>\n",
       "    <tr>\n",
       "      <th>0</th>\n",
       "      <td>Asia</td>\n",
       "      <td>Afghanistan</td>\n",
       "      <td>40462186</td>\n",
       "      <td>177827</td>\n",
       "      <td>4395</td>\n",
       "      <td>7671</td>\n",
       "      <td>190</td>\n",
       "      <td>4.313743</td>\n",
       "    </tr>\n",
       "    <tr>\n",
       "      <th>1</th>\n",
       "      <td>Europe</td>\n",
       "      <td>Albania</td>\n",
       "      <td>2872296</td>\n",
       "      <td>273870</td>\n",
       "      <td>95349</td>\n",
       "      <td>3492</td>\n",
       "      <td>1216</td>\n",
       "      <td>1.275058</td>\n",
       "    </tr>\n",
       "    <tr>\n",
       "      <th>2</th>\n",
       "      <td>Africa</td>\n",
       "      <td>Algeria</td>\n",
       "      <td>45236699</td>\n",
       "      <td>265691</td>\n",
       "      <td>5873</td>\n",
       "      <td>6874</td>\n",
       "      <td>152</td>\n",
       "      <td>2.587216</td>\n",
       "    </tr>\n",
       "    <tr>\n",
       "      <th>3</th>\n",
       "      <td>Europe</td>\n",
       "      <td>Andorra</td>\n",
       "      <td>77481</td>\n",
       "      <td>40024</td>\n",
       "      <td>516565</td>\n",
       "      <td>153</td>\n",
       "      <td>1975</td>\n",
       "      <td>0.382271</td>\n",
       "    </tr>\n",
       "    <tr>\n",
       "      <th>4</th>\n",
       "      <td>Africa</td>\n",
       "      <td>Angola</td>\n",
       "      <td>34654212</td>\n",
       "      <td>99194</td>\n",
       "      <td>2862</td>\n",
       "      <td>1900</td>\n",
       "      <td>55</td>\n",
       "      <td>1.915438</td>\n",
       "    </tr>\n",
       "  </tbody>\n",
       "</table>\n",
       "</div>"
      ],
      "text/plain": [
       "  continent      country  population  total_cases  total_cases_per_1m_pop  \\\n",
       "0      Asia  Afghanistan    40462186       177827                    4395   \n",
       "1    Europe      Albania     2872296       273870                   95349   \n",
       "2    Africa      Algeria    45236699       265691                    5873   \n",
       "3    Europe      Andorra       77481        40024                  516565   \n",
       "4    Africa       Angola    34654212        99194                    2862   \n",
       "\n",
       "   total_deaths  total_deaths_per_1m_pop  death_percentage  \n",
       "0          7671                      190          4.313743  \n",
       "1          3492                     1216          1.275058  \n",
       "2          6874                      152          2.587216  \n",
       "3           153                     1975          0.382271  \n",
       "4          1900                       55          1.915438  "
      ]
     },
     "execution_count": 14,
     "metadata": {},
     "output_type": "execute_result"
    }
   ],
   "source": [
    "# Select relevant columns \n",
    "df = data[['continent','country', 'population','total_cases', 'total_cases_per_1m_pop', 'total_deaths',\n",
    "       'total_deaths_per_1m_pop', 'death_percentage']]\n",
    "df.head()"
   ]
  },
  {
   "cell_type": "markdown",
   "id": "2c93b335",
   "metadata": {
    "papermill": {
     "duration": 0.016892,
     "end_time": "2024-03-22T16:51:46.412778",
     "exception": false,
     "start_time": "2024-03-22T16:51:46.395886",
     "status": "completed"
    },
    "tags": []
   },
   "source": [
    "# SQL Queries"
   ]
  },
  {
   "cell_type": "markdown",
   "id": "35714720",
   "metadata": {
    "papermill": {
     "duration": 0.017128,
     "end_time": "2024-03-22T16:51:46.447009",
     "exception": false,
     "start_time": "2024-03-22T16:51:46.429881",
     "status": "completed"
    },
    "tags": []
   },
   "source": [
    "## Loading Data into SQLite Database and Establish a connection"
   ]
  },
  {
   "cell_type": "code",
   "execution_count": 15,
   "id": "72f313eb",
   "metadata": {
    "execution": {
     "iopub.execute_input": "2024-03-22T16:51:46.484938Z",
     "iopub.status.busy": "2024-03-22T16:51:46.483758Z",
     "iopub.status.idle": "2024-03-22T16:51:46.547344Z",
     "shell.execute_reply": "2024-03-22T16:51:46.545024Z"
    },
    "papermill": {
     "duration": 0.087148,
     "end_time": "2024-03-22T16:51:46.551374",
     "exception": false,
     "start_time": "2024-03-22T16:51:46.464226",
     "status": "completed"
    },
    "tags": []
   },
   "outputs": [],
   "source": [
    "# Initialize a new engine that interfaces with the SQLite database\n",
    "engine = create_engine('sqlite:///covid_db')"
   ]
  },
  {
   "cell_type": "code",
   "execution_count": 16,
   "id": "b2b28cc5",
   "metadata": {
    "execution": {
     "iopub.execute_input": "2024-03-22T16:51:46.690938Z",
     "iopub.status.busy": "2024-03-22T16:51:46.690436Z",
     "iopub.status.idle": "2024-03-22T16:51:46.698238Z",
     "shell.execute_reply": "2024-03-22T16:51:46.696955Z"
    },
    "papermill": {
     "duration": 0.13184,
     "end_time": "2024-03-22T16:51:46.701201",
     "exception": false,
     "start_time": "2024-03-22T16:51:46.569361",
     "status": "completed"
    },
    "tags": []
   },
   "outputs": [],
   "source": [
    "# Connect to the database\n",
    "conn = engine.connect()"
   ]
  },
  {
   "cell_type": "code",
   "execution_count": 17,
   "id": "368ee3b5",
   "metadata": {
    "execution": {
     "iopub.execute_input": "2024-03-22T16:51:46.738612Z",
     "iopub.status.busy": "2024-03-22T16:51:46.738042Z",
     "iopub.status.idle": "2024-03-22T16:51:46.797271Z",
     "shell.execute_reply": "2024-03-22T16:51:46.795946Z"
    },
    "papermill": {
     "duration": 0.081918,
     "end_time": "2024-03-22T16:51:46.800167",
     "exception": false,
     "start_time": "2024-03-22T16:51:46.718249",
     "status": "completed"
    },
    "tags": []
   },
   "outputs": [
    {
     "data": {
      "text/plain": [
       "225"
      ]
     },
     "execution_count": 17,
     "metadata": {},
     "output_type": "execute_result"
    }
   ],
   "source": [
    "# Write df to SQL database\n",
    "df.to_sql('covid_data', engine, if_exists='replace', index=False)"
   ]
  },
  {
   "cell_type": "code",
   "execution_count": 18,
   "id": "c46e261f",
   "metadata": {
    "execution": {
     "iopub.execute_input": "2024-03-22T16:51:46.839107Z",
     "iopub.status.busy": "2024-03-22T16:51:46.837764Z",
     "iopub.status.idle": "2024-03-22T16:51:46.989689Z",
     "shell.execute_reply": "2024-03-22T16:51:46.988220Z"
    },
    "papermill": {
     "duration": 0.174995,
     "end_time": "2024-03-22T16:51:46.993100",
     "exception": false,
     "start_time": "2024-03-22T16:51:46.818105",
     "status": "completed"
    },
    "tags": []
   },
   "outputs": [],
   "source": [
    "# Load SQL extension in the IPython environment\n",
    "%load_ext sql\n",
    "\n",
    "# Connect to SQLite database: covid_db\n",
    "%sql sqlite:///covid_db"
   ]
  },
  {
   "cell_type": "code",
   "execution_count": 19,
   "id": "98e703a8",
   "metadata": {
    "execution": {
     "iopub.execute_input": "2024-03-22T16:51:47.030649Z",
     "iopub.status.busy": "2024-03-22T16:51:47.029635Z",
     "iopub.status.idle": "2024-03-22T16:51:47.050911Z",
     "shell.execute_reply": "2024-03-22T16:51:47.049695Z"
    },
    "papermill": {
     "duration": 0.044186,
     "end_time": "2024-03-22T16:51:47.054615",
     "exception": false,
     "start_time": "2024-03-22T16:51:47.010429",
     "status": "completed"
    },
    "tags": []
   },
   "outputs": [
    {
     "name": "stdout",
     "output_type": "stream",
     "text": [
      " * sqlite:///covid_db\n",
      "Done.\n"
     ]
    },
    {
     "data": {
      "text/html": [
       "<table>\n",
       "    <thead>\n",
       "        <tr>\n",
       "            <th>name</th>\n",
       "        </tr>\n",
       "    </thead>\n",
       "    <tbody>\n",
       "        <tr>\n",
       "            <td>covid_data</td>\n",
       "        </tr>\n",
       "    </tbody>\n",
       "</table>"
      ],
      "text/plain": [
       "[('covid_data',)]"
      ]
     },
     "execution_count": 19,
     "metadata": {},
     "output_type": "execute_result"
    }
   ],
   "source": [
    "%%sql\n",
    "-- List all the tables in the database\n",
    "SELECT\n",
    "    name\n",
    "FROM sqlite_master\n",
    "WHERE type='table';"
   ]
  },
  {
   "cell_type": "code",
   "execution_count": 20,
   "id": "25c3d14f",
   "metadata": {
    "execution": {
     "iopub.execute_input": "2024-03-22T16:51:47.091531Z",
     "iopub.status.busy": "2024-03-22T16:51:47.091090Z",
     "iopub.status.idle": "2024-03-22T16:51:47.102947Z",
     "shell.execute_reply": "2024-03-22T16:51:47.101366Z"
    },
    "papermill": {
     "duration": 0.033494,
     "end_time": "2024-03-22T16:51:47.105642",
     "exception": false,
     "start_time": "2024-03-22T16:51:47.072148",
     "status": "completed"
    },
    "tags": []
   },
   "outputs": [
    {
     "name": "stdout",
     "output_type": "stream",
     "text": [
      " * sqlite:///covid_db\n",
      "Done.\n"
     ]
    },
    {
     "data": {
      "text/html": [
       "<table>\n",
       "    <thead>\n",
       "        <tr>\n",
       "            <th>continent</th>\n",
       "            <th>country</th>\n",
       "            <th>population</th>\n",
       "            <th>total_cases</th>\n",
       "            <th>total_cases_per_1m_pop</th>\n",
       "            <th>total_deaths</th>\n",
       "            <th>total_deaths_per_1m_pop</th>\n",
       "            <th>death_percentage</th>\n",
       "        </tr>\n",
       "    </thead>\n",
       "    <tbody>\n",
       "        <tr>\n",
       "            <td>Asia</td>\n",
       "            <td>Afghanistan</td>\n",
       "            <td>40462186</td>\n",
       "            <td>177827</td>\n",
       "            <td>4395</td>\n",
       "            <td>7671</td>\n",
       "            <td>190</td>\n",
       "            <td>4.313743132</td>\n",
       "        </tr>\n",
       "        <tr>\n",
       "            <td>Europe</td>\n",
       "            <td>Albania</td>\n",
       "            <td>2872296</td>\n",
       "            <td>273870</td>\n",
       "            <td>95349</td>\n",
       "            <td>3492</td>\n",
       "            <td>1216</td>\n",
       "            <td>1.275057509</td>\n",
       "        </tr>\n",
       "        <tr>\n",
       "            <td>Africa</td>\n",
       "            <td>Algeria</td>\n",
       "            <td>45236699</td>\n",
       "            <td>265691</td>\n",
       "            <td>5873</td>\n",
       "            <td>6874</td>\n",
       "            <td>152</td>\n",
       "            <td>2.587215976</td>\n",
       "        </tr>\n",
       "        <tr>\n",
       "            <td>Europe</td>\n",
       "            <td>Andorra</td>\n",
       "            <td>77481</td>\n",
       "            <td>40024</td>\n",
       "            <td>516565</td>\n",
       "            <td>153</td>\n",
       "            <td>1975</td>\n",
       "            <td>0.382270638</td>\n",
       "        </tr>\n",
       "        <tr>\n",
       "            <td>Africa</td>\n",
       "            <td>Angola</td>\n",
       "            <td>34654212</td>\n",
       "            <td>99194</td>\n",
       "            <td>2862</td>\n",
       "            <td>1900</td>\n",
       "            <td>55</td>\n",
       "            <td>1.915438434</td>\n",
       "        </tr>\n",
       "    </tbody>\n",
       "</table>"
      ],
      "text/plain": [
       "[('Asia', 'Afghanistan', 40462186, 177827, 4395, 7671, 190, 4.313743132),\n",
       " ('Europe', 'Albania', 2872296, 273870, 95349, 3492, 1216, 1.275057509),\n",
       " ('Africa', 'Algeria', 45236699, 265691, 5873, 6874, 152, 2.587215976),\n",
       " ('Europe', 'Andorra', 77481, 40024, 516565, 153, 1975, 0.382270638),\n",
       " ('Africa', 'Angola', 34654212, 99194, 2862, 1900, 55, 1.915438434)]"
      ]
     },
     "execution_count": 20,
     "metadata": {},
     "output_type": "execute_result"
    }
   ],
   "source": [
    "%%sql\n",
    "-- Retrieve the first 5 rows from the table \n",
    "SELECT *\n",
    "FROM covid_data\n",
    "LIMIT 5;"
   ]
  },
  {
   "cell_type": "markdown",
   "id": "f0c6bb64",
   "metadata": {
    "papermill": {
     "duration": 0.016915,
     "end_time": "2024-03-22T16:51:47.141598",
     "exception": false,
     "start_time": "2024-03-22T16:51:47.124683",
     "status": "completed"
    },
    "tags": []
   },
   "source": [
    "## SQL: Explore the Data"
   ]
  },
  {
   "cell_type": "markdown",
   "id": "150e5a56",
   "metadata": {
    "papermill": {
     "duration": 0.016656,
     "end_time": "2024-03-22T16:51:47.175652",
     "exception": false,
     "start_time": "2024-03-22T16:51:47.158996",
     "status": "completed"
    },
    "tags": []
   },
   "source": [
    "### <font color=indigo> 1. Find the Total Cases and Deaths by Country"
   ]
  },
  {
   "cell_type": "code",
   "execution_count": 21,
   "id": "7935c0ec",
   "metadata": {
    "execution": {
     "iopub.execute_input": "2024-03-22T16:51:47.212294Z",
     "iopub.status.busy": "2024-03-22T16:51:47.211789Z",
     "iopub.status.idle": "2024-03-22T16:51:47.224889Z",
     "shell.execute_reply": "2024-03-22T16:51:47.223978Z"
    },
    "papermill": {
     "duration": 0.034166,
     "end_time": "2024-03-22T16:51:47.227164",
     "exception": false,
     "start_time": "2024-03-22T16:51:47.192998",
     "status": "completed"
    },
    "tags": []
   },
   "outputs": [
    {
     "name": "stdout",
     "output_type": "stream",
     "text": [
      " * sqlite:///covid_db\n",
      "Done.\n"
     ]
    },
    {
     "data": {
      "text/html": [
       "<table>\n",
       "    <thead>\n",
       "        <tr>\n",
       "            <th>country</th>\n",
       "            <th>total_cases</th>\n",
       "            <th>total_deaths</th>\n",
       "        </tr>\n",
       "    </thead>\n",
       "    <tbody>\n",
       "        <tr>\n",
       "            <td>Afghanistan</td>\n",
       "            <td>177827</td>\n",
       "            <td>7671</td>\n",
       "        </tr>\n",
       "        <tr>\n",
       "            <td>Albania</td>\n",
       "            <td>273870</td>\n",
       "            <td>3492</td>\n",
       "        </tr>\n",
       "        <tr>\n",
       "            <td>Algeria</td>\n",
       "            <td>265691</td>\n",
       "            <td>6874</td>\n",
       "        </tr>\n",
       "        <tr>\n",
       "            <td>Andorra</td>\n",
       "            <td>40024</td>\n",
       "            <td>153</td>\n",
       "        </tr>\n",
       "        <tr>\n",
       "            <td>Angola</td>\n",
       "            <td>99194</td>\n",
       "            <td>1900</td>\n",
       "        </tr>\n",
       "        <tr>\n",
       "            <td>Anguilla</td>\n",
       "            <td>2700</td>\n",
       "            <td>9</td>\n",
       "        </tr>\n",
       "        <tr>\n",
       "            <td>Antigua and Barbuda</td>\n",
       "            <td>7493</td>\n",
       "            <td>135</td>\n",
       "        </tr>\n",
       "        <tr>\n",
       "            <td>Argentina</td>\n",
       "            <td>9041124</td>\n",
       "            <td>128065</td>\n",
       "        </tr>\n",
       "        <tr>\n",
       "            <td>Armenia</td>\n",
       "            <td>422574</td>\n",
       "            <td>8617</td>\n",
       "        </tr>\n",
       "        <tr>\n",
       "            <td>Aruba</td>\n",
       "            <td>34051</td>\n",
       "            <td>212</td>\n",
       "        </tr>\n",
       "    </tbody>\n",
       "</table>"
      ],
      "text/plain": [
       "[('Afghanistan', 177827, 7671),\n",
       " ('Albania', 273870, 3492),\n",
       " ('Algeria', 265691, 6874),\n",
       " ('Andorra', 40024, 153),\n",
       " ('Angola', 99194, 1900),\n",
       " ('Anguilla', 2700, 9),\n",
       " ('Antigua and Barbuda', 7493, 135),\n",
       " ('Argentina', 9041124, 128065),\n",
       " ('Armenia', 422574, 8617),\n",
       " ('Aruba', 34051, 212)]"
      ]
     },
     "execution_count": 21,
     "metadata": {},
     "output_type": "execute_result"
    }
   ],
   "source": [
    "%%sql\n",
    "SELECT \n",
    "    country,\n",
    "    total_cases,\n",
    "    total_deaths\n",
    "FROM covid_data\n",
    "ORDER BY country\n",
    "LIMIT 10;"
   ]
  },
  {
   "cell_type": "markdown",
   "id": "c5ac52f9",
   "metadata": {
    "papermill": {
     "duration": 0.01738,
     "end_time": "2024-03-22T16:51:47.262372",
     "exception": false,
     "start_time": "2024-03-22T16:51:47.244992",
     "status": "completed"
    },
    "tags": []
   },
   "source": [
    "### <font color=indigo> 2. Find the Total Population by Continent"
   ]
  },
  {
   "cell_type": "code",
   "execution_count": 22,
   "id": "211068a6",
   "metadata": {
    "execution": {
     "iopub.execute_input": "2024-03-22T16:51:47.300257Z",
     "iopub.status.busy": "2024-03-22T16:51:47.299721Z",
     "iopub.status.idle": "2024-03-22T16:51:47.311588Z",
     "shell.execute_reply": "2024-03-22T16:51:47.310236Z"
    },
    "papermill": {
     "duration": 0.034415,
     "end_time": "2024-03-22T16:51:47.314508",
     "exception": false,
     "start_time": "2024-03-22T16:51:47.280093",
     "status": "completed"
    },
    "tags": []
   },
   "outputs": [
    {
     "name": "stdout",
     "output_type": "stream",
     "text": [
      " * sqlite:///covid_db\n",
      "Done.\n"
     ]
    },
    {
     "data": {
      "text/html": [
       "<table>\n",
       "    <thead>\n",
       "        <tr>\n",
       "            <th>continent</th>\n",
       "            <th>total_population</th>\n",
       "        </tr>\n",
       "    </thead>\n",
       "    <tbody>\n",
       "        <tr>\n",
       "            <td>Africa</td>\n",
       "            <td>1396751613</td>\n",
       "        </tr>\n",
       "        <tr>\n",
       "            <td>Asia</td>\n",
       "            <td>4668689344</td>\n",
       "        </tr>\n",
       "        <tr>\n",
       "            <td>Europe</td>\n",
       "            <td>748420351</td>\n",
       "        </tr>\n",
       "        <tr>\n",
       "            <td>Latin America and the Caribbean</td>\n",
       "            <td>661325824</td>\n",
       "        </tr>\n",
       "        <tr>\n",
       "            <td>Northern America</td>\n",
       "            <td>372846593</td>\n",
       "        </tr>\n",
       "        <tr>\n",
       "            <td>Oceania</td>\n",
       "            <td>43437948</td>\n",
       "        </tr>\n",
       "    </tbody>\n",
       "</table>"
      ],
      "text/plain": [
       "[('Africa', 1396751613),\n",
       " ('Asia', 4668689344),\n",
       " ('Europe', 748420351),\n",
       " ('Latin America and the Caribbean', 661325824),\n",
       " ('Northern America', 372846593),\n",
       " ('Oceania', 43437948)]"
      ]
     },
     "execution_count": 22,
     "metadata": {},
     "output_type": "execute_result"
    }
   ],
   "source": [
    "%%sql\n",
    "SELECT \n",
    "    continent,\n",
    "    SUM(population) AS total_population\n",
    "FROM covid_data\n",
    "GROUP BY 1\n",
    "ORDER BY 1;"
   ]
  },
  {
   "cell_type": "markdown",
   "id": "405ee7e1",
   "metadata": {
    "papermill": {
     "duration": 0.018869,
     "end_time": "2024-03-22T16:51:47.352211",
     "exception": false,
     "start_time": "2024-03-22T16:51:47.333342",
     "status": "completed"
    },
    "tags": []
   },
   "source": [
    "### <font color=indigo> 3. Find the Average Total Cases and Deaths for each Continent"
   ]
  },
  {
   "cell_type": "code",
   "execution_count": 23,
   "id": "93a902df",
   "metadata": {
    "execution": {
     "iopub.execute_input": "2024-03-22T16:51:47.391274Z",
     "iopub.status.busy": "2024-03-22T16:51:47.390795Z",
     "iopub.status.idle": "2024-03-22T16:51:47.403843Z",
     "shell.execute_reply": "2024-03-22T16:51:47.402527Z"
    },
    "papermill": {
     "duration": 0.035713,
     "end_time": "2024-03-22T16:51:47.406427",
     "exception": false,
     "start_time": "2024-03-22T16:51:47.370714",
     "status": "completed"
    },
    "tags": []
   },
   "outputs": [
    {
     "name": "stdout",
     "output_type": "stream",
     "text": [
      " * sqlite:///covid_db\n",
      "Done.\n"
     ]
    },
    {
     "data": {
      "text/html": [
       "<table>\n",
       "    <thead>\n",
       "        <tr>\n",
       "            <th>continent</th>\n",
       "            <th>avg_total_cases</th>\n",
       "            <th>avg_total_deaths</th>\n",
       "        </tr>\n",
       "    </thead>\n",
       "    <tbody>\n",
       "        <tr>\n",
       "            <td>Africa</td>\n",
       "            <td>202831.1551724138</td>\n",
       "            <td>4359.879310344828</td>\n",
       "        </tr>\n",
       "        <tr>\n",
       "            <td>Asia</td>\n",
       "            <td>2876677.1224489794</td>\n",
       "            <td>28673.530612244896</td>\n",
       "        </tr>\n",
       "        <tr>\n",
       "            <td>Europe</td>\n",
       "            <td>3756926.7291666665</td>\n",
       "            <td>36994.3125</td>\n",
       "        </tr>\n",
       "        <tr>\n",
       "            <td>Latin America and the Caribbean</td>\n",
       "            <td>1406442.3125</td>\n",
       "            <td>35142.25</td>\n",
       "        </tr>\n",
       "        <tr>\n",
       "            <td>Northern America</td>\n",
       "            <td>17072954.0</td>\n",
       "            <td>209212.4</td>\n",
       "        </tr>\n",
       "        <tr>\n",
       "            <td>Oceania</td>\n",
       "            <td>332232.76470588235</td>\n",
       "            <td>549.1764705882352</td>\n",
       "        </tr>\n",
       "    </tbody>\n",
       "</table>"
      ],
      "text/plain": [
       "[('Africa', 202831.1551724138, 4359.879310344828),\n",
       " ('Asia', 2876677.1224489794, 28673.530612244896),\n",
       " ('Europe', 3756926.7291666665, 36994.3125),\n",
       " ('Latin America and the Caribbean', 1406442.3125, 35142.25),\n",
       " ('Northern America', 17072954.0, 209212.4),\n",
       " ('Oceania', 332232.76470588235, 549.1764705882352)]"
      ]
     },
     "execution_count": 23,
     "metadata": {},
     "output_type": "execute_result"
    }
   ],
   "source": [
    "%%sql\n",
    "SELECT \n",
    "    continent,\n",
    "    AVG(total_cases) AS avg_total_cases,\n",
    "    AVG(total_deaths) AS avg_total_deaths\n",
    "FROM covid_data\n",
    "GROUP BY 1\n",
    "ORDER BY 1;"
   ]
  },
  {
   "cell_type": "markdown",
   "id": "6de26761",
   "metadata": {
    "papermill": {
     "duration": 0.018866,
     "end_time": "2024-03-22T16:51:47.444340",
     "exception": false,
     "start_time": "2024-03-22T16:51:47.425474",
     "status": "completed"
    },
    "tags": []
   },
   "source": [
    "### <font color=indigo> 4. Find the Death Percentage by Continent"
   ]
  },
  {
   "cell_type": "code",
   "execution_count": 24,
   "id": "fc147f53",
   "metadata": {
    "execution": {
     "iopub.execute_input": "2024-03-22T16:51:47.482960Z",
     "iopub.status.busy": "2024-03-22T16:51:47.482460Z",
     "iopub.status.idle": "2024-03-22T16:51:47.495329Z",
     "shell.execute_reply": "2024-03-22T16:51:47.493925Z"
    },
    "papermill": {
     "duration": 0.035334,
     "end_time": "2024-03-22T16:51:47.497977",
     "exception": false,
     "start_time": "2024-03-22T16:51:47.462643",
     "status": "completed"
    },
    "tags": []
   },
   "outputs": [
    {
     "name": "stdout",
     "output_type": "stream",
     "text": [
      " * sqlite:///covid_db\n",
      "Done.\n"
     ]
    },
    {
     "data": {
      "text/html": [
       "<table>\n",
       "    <thead>\n",
       "        <tr>\n",
       "            <th>continent</th>\n",
       "            <th>death_percentage</th>\n",
       "        </tr>\n",
       "    </thead>\n",
       "    <tbody>\n",
       "        <tr>\n",
       "            <td>Africa</td>\n",
       "            <td>2.1495</td>\n",
       "        </tr>\n",
       "        <tr>\n",
       "            <td>Asia</td>\n",
       "            <td>0.9968</td>\n",
       "        </tr>\n",
       "        <tr>\n",
       "            <td>Europe</td>\n",
       "            <td>0.9847</td>\n",
       "        </tr>\n",
       "        <tr>\n",
       "            <td>Latin America and the Caribbean</td>\n",
       "            <td>2.4987</td>\n",
       "        </tr>\n",
       "        <tr>\n",
       "            <td>Northern America</td>\n",
       "            <td>1.2254</td>\n",
       "        </tr>\n",
       "        <tr>\n",
       "            <td>Oceania</td>\n",
       "            <td>0.1653</td>\n",
       "        </tr>\n",
       "    </tbody>\n",
       "</table>"
      ],
      "text/plain": [
       "[('Africa', 2.1495),\n",
       " ('Asia', 0.9968),\n",
       " ('Europe', 0.9847),\n",
       " ('Latin America and the Caribbean', 2.4987),\n",
       " ('Northern America', 1.2254),\n",
       " ('Oceania', 0.1653)]"
      ]
     },
     "execution_count": 24,
     "metadata": {},
     "output_type": "execute_result"
    }
   ],
   "source": [
    "%%sql\n",
    "SELECT \n",
    "    continent,\n",
    "    ROUND((SUM(total_deaths)* 1.0/SUM(total_cases)) * 100, 4) AS death_percentage\n",
    "FROM covid_data\n",
    "GROUP BY 1\n",
    "ORDER BY 1;"
   ]
  },
  {
   "cell_type": "markdown",
   "id": "3b977862",
   "metadata": {
    "papermill": {
     "duration": 0.018257,
     "end_time": "2024-03-22T16:51:47.535518",
     "exception": false,
     "start_time": "2024-03-22T16:51:47.517261",
     "status": "completed"
    },
    "tags": []
   },
   "source": [
    "### <font color=indigo> 5. Find the Top 10 Countries with Highest Cases per Million Population"
   ]
  },
  {
   "cell_type": "code",
   "execution_count": 25,
   "id": "3bb78389",
   "metadata": {
    "execution": {
     "iopub.execute_input": "2024-03-22T16:51:47.577043Z",
     "iopub.status.busy": "2024-03-22T16:51:47.576530Z",
     "iopub.status.idle": "2024-03-22T16:51:47.589297Z",
     "shell.execute_reply": "2024-03-22T16:51:47.588366Z"
    },
    "papermill": {
     "duration": 0.036781,
     "end_time": "2024-03-22T16:51:47.591766",
     "exception": false,
     "start_time": "2024-03-22T16:51:47.554985",
     "status": "completed"
    },
    "tags": []
   },
   "outputs": [
    {
     "name": "stdout",
     "output_type": "stream",
     "text": [
      " * sqlite:///covid_db\n",
      "Done.\n"
     ]
    },
    {
     "data": {
      "text/html": [
       "<table>\n",
       "    <thead>\n",
       "        <tr>\n",
       "            <th>country</th>\n",
       "            <th>total_cases_per_1m_pop</th>\n",
       "        </tr>\n",
       "    </thead>\n",
       "    <tbody>\n",
       "        <tr>\n",
       "            <td>Faeroe Islands</td>\n",
       "            <td>696044</td>\n",
       "        </tr>\n",
       "        <tr>\n",
       "            <td>Iceland</td>\n",
       "            <td>526860</td>\n",
       "        </tr>\n",
       "        <tr>\n",
       "            <td>Andorra</td>\n",
       "            <td>516565</td>\n",
       "        </tr>\n",
       "        <tr>\n",
       "            <td>Gibraltar</td>\n",
       "            <td>504232</td>\n",
       "        </tr>\n",
       "        <tr>\n",
       "            <td>Denmark</td>\n",
       "            <td>500939</td>\n",
       "        </tr>\n",
       "        <tr>\n",
       "            <td>Slovenia</td>\n",
       "            <td>468344</td>\n",
       "        </tr>\n",
       "        <tr>\n",
       "            <td>Netherlands</td>\n",
       "            <td>459775</td>\n",
       "        </tr>\n",
       "        <tr>\n",
       "            <td>San Marino</td>\n",
       "            <td>445766</td>\n",
       "        </tr>\n",
       "        <tr>\n",
       "            <td>Latvia</td>\n",
       "            <td>433873</td>\n",
       "        </tr>\n",
       "        <tr>\n",
       "            <td>Liechtenstein</td>\n",
       "            <td>428732</td>\n",
       "        </tr>\n",
       "    </tbody>\n",
       "</table>"
      ],
      "text/plain": [
       "[('Faeroe Islands', 696044),\n",
       " ('Iceland', 526860),\n",
       " ('Andorra', 516565),\n",
       " ('Gibraltar', 504232),\n",
       " ('Denmark', 500939),\n",
       " ('Slovenia', 468344),\n",
       " ('Netherlands', 459775),\n",
       " ('San Marino', 445766),\n",
       " ('Latvia', 433873),\n",
       " ('Liechtenstein', 428732)]"
      ]
     },
     "execution_count": 25,
     "metadata": {},
     "output_type": "execute_result"
    }
   ],
   "source": [
    "%%sql\n",
    "SELECT\n",
    "    country,\n",
    "    total_cases_per_1m_pop\n",
    "FROM covid_data\n",
    "ORDER BY total_cases_per_1m_pop DESC\n",
    "LIMIT 10;"
   ]
  },
  {
   "cell_type": "markdown",
   "id": "cc641e0b",
   "metadata": {
    "papermill": {
     "duration": 0.018922,
     "end_time": "2024-03-22T16:51:47.630132",
     "exception": false,
     "start_time": "2024-03-22T16:51:47.611210",
     "status": "completed"
    },
    "tags": []
   },
   "source": [
    "### <font color=indigo> 6. Find the Top 10 Countries with Highest Deaths per Million Population"
   ]
  },
  {
   "cell_type": "code",
   "execution_count": 26,
   "id": "490c7f97",
   "metadata": {
    "execution": {
     "iopub.execute_input": "2024-03-22T16:51:47.670531Z",
     "iopub.status.busy": "2024-03-22T16:51:47.670036Z",
     "iopub.status.idle": "2024-03-22T16:51:47.682354Z",
     "shell.execute_reply": "2024-03-22T16:51:47.681135Z"
    },
    "papermill": {
     "duration": 0.036033,
     "end_time": "2024-03-22T16:51:47.685364",
     "exception": false,
     "start_time": "2024-03-22T16:51:47.649331",
     "status": "completed"
    },
    "tags": []
   },
   "outputs": [
    {
     "name": "stdout",
     "output_type": "stream",
     "text": [
      " * sqlite:///covid_db\n",
      "Done.\n"
     ]
    },
    {
     "data": {
      "text/html": [
       "<table>\n",
       "    <thead>\n",
       "        <tr>\n",
       "            <th>country</th>\n",
       "            <th>total_deaths_per_1m_pop</th>\n",
       "        </tr>\n",
       "    </thead>\n",
       "    <tbody>\n",
       "        <tr>\n",
       "            <td>Peru</td>\n",
       "            <td>6286</td>\n",
       "        </tr>\n",
       "        <tr>\n",
       "            <td>Bulgaria</td>\n",
       "            <td>5333</td>\n",
       "        </tr>\n",
       "        <tr>\n",
       "            <td>Bosnia and Herzegovina</td>\n",
       "            <td>4844</td>\n",
       "        </tr>\n",
       "        <tr>\n",
       "            <td>Hungary</td>\n",
       "            <td>4732</td>\n",
       "        </tr>\n",
       "        <tr>\n",
       "            <td>North Macedonia</td>\n",
       "            <td>4430</td>\n",
       "        </tr>\n",
       "        <tr>\n",
       "            <td>Montenegro</td>\n",
       "            <td>4306</td>\n",
       "        </tr>\n",
       "        <tr>\n",
       "            <td>Georgia</td>\n",
       "            <td>4215</td>\n",
       "        </tr>\n",
       "        <tr>\n",
       "            <td>Croatia</td>\n",
       "            <td>3842</td>\n",
       "        </tr>\n",
       "        <tr>\n",
       "            <td>Czechia</td>\n",
       "            <td>3697</td>\n",
       "        </tr>\n",
       "        <tr>\n",
       "            <td>Slovakia</td>\n",
       "            <td>3553</td>\n",
       "        </tr>\n",
       "    </tbody>\n",
       "</table>"
      ],
      "text/plain": [
       "[('Peru', 6286),\n",
       " ('Bulgaria', 5333),\n",
       " ('Bosnia and Herzegovina', 4844),\n",
       " ('Hungary', 4732),\n",
       " ('North Macedonia', 4430),\n",
       " ('Montenegro', 4306),\n",
       " ('Georgia', 4215),\n",
       " ('Croatia', 3842),\n",
       " ('Czechia', 3697),\n",
       " ('Slovakia', 3553)]"
      ]
     },
     "execution_count": 26,
     "metadata": {},
     "output_type": "execute_result"
    }
   ],
   "source": [
    "%%sql\n",
    "SELECT\n",
    "    country,\n",
    "    total_deaths_per_1m_pop\n",
    "FROM covid_data\n",
    "ORDER BY total_deaths_per_1m_pop DESC\n",
    "LIMIT 10;"
   ]
  },
  {
   "cell_type": "markdown",
   "id": "13bf0549",
   "metadata": {
    "papermill": {
     "duration": 0.019054,
     "end_time": "2024-03-22T16:51:47.724341",
     "exception": false,
     "start_time": "2024-03-22T16:51:47.705287",
     "status": "completed"
    },
    "tags": []
   },
   "source": [
    "### <font color=indigo> 7. Find the Countries with Death Percentage Above the Overall Average Death Percentage"
   ]
  },
  {
   "cell_type": "code",
   "execution_count": 27,
   "id": "831a4ef8",
   "metadata": {
    "execution": {
     "iopub.execute_input": "2024-03-22T16:51:47.765086Z",
     "iopub.status.busy": "2024-03-22T16:51:47.764586Z",
     "iopub.status.idle": "2024-03-22T16:51:47.782696Z",
     "shell.execute_reply": "2024-03-22T16:51:47.781404Z"
    },
    "papermill": {
     "duration": 0.041566,
     "end_time": "2024-03-22T16:51:47.785179",
     "exception": false,
     "start_time": "2024-03-22T16:51:47.743613",
     "status": "completed"
    },
    "tags": []
   },
   "outputs": [
    {
     "name": "stdout",
     "output_type": "stream",
     "text": [
      " * sqlite:///covid_db\n",
      "Done.\n"
     ]
    },
    {
     "data": {
      "text/html": [
       "<table>\n",
       "    <thead>\n",
       "        <tr>\n",
       "            <th>country</th>\n",
       "            <th>death_percentage</th>\n",
       "        </tr>\n",
       "    </thead>\n",
       "    <tbody>\n",
       "        <tr>\n",
       "            <td>Afghanistan</td>\n",
       "            <td>4.313743132</td>\n",
       "        </tr>\n",
       "        <tr>\n",
       "            <td>Algeria</td>\n",
       "            <td>2.587215976</td>\n",
       "        </tr>\n",
       "        <tr>\n",
       "            <td>Angola</td>\n",
       "            <td>1.915438434</td>\n",
       "        </tr>\n",
       "        <tr>\n",
       "            <td>Antigua and Barbuda</td>\n",
       "            <td>1.801681569</td>\n",
       "        </tr>\n",
       "        <tr>\n",
       "            <td>Armenia</td>\n",
       "            <td>2.039169471</td>\n",
       "        </tr>\n",
       "        <tr>\n",
       "            <td>Bahamas</td>\n",
       "            <td>2.36672173</td>\n",
       "        </tr>\n",
       "        <tr>\n",
       "            <td>Bangladesh</td>\n",
       "            <td>1.492081546</td>\n",
       "        </tr>\n",
       "        <tr>\n",
       "            <td>Bolivia</td>\n",
       "            <td>2.426289382</td>\n",
       "        </tr>\n",
       "        <tr>\n",
       "            <td>Bosnia and Herzegovina</td>\n",
       "            <td>4.184001299</td>\n",
       "        </tr>\n",
       "        <tr>\n",
       "            <td>Brazil</td>\n",
       "            <td>2.200910166</td>\n",
       "        </tr>\n",
       "        <tr>\n",
       "            <td>Bulgaria</td>\n",
       "            <td>3.205809873</td>\n",
       "        </tr>\n",
       "        <tr>\n",
       "            <td>Burkina Faso</td>\n",
       "            <td>1.831870714</td>\n",
       "        </tr>\n",
       "        <tr>\n",
       "            <td>Cambodia</td>\n",
       "            <td>2.249773476</td>\n",
       "        </tr>\n",
       "        <tr>\n",
       "            <td>Cameroon</td>\n",
       "            <td>1.611958777</td>\n",
       "        </tr>\n",
       "        <tr>\n",
       "            <td>Chad</td>\n",
       "            <td>2.613574165</td>\n",
       "        </tr>\n",
       "        <tr>\n",
       "            <td>Chile</td>\n",
       "            <td>1.627635443</td>\n",
       "        </tr>\n",
       "        <tr>\n",
       "            <td>China</td>\n",
       "            <td>2.99732451</td>\n",
       "        </tr>\n",
       "        <tr>\n",
       "            <td>Colombia</td>\n",
       "            <td>2.294802796</td>\n",
       "        </tr>\n",
       "        <tr>\n",
       "            <td>Comoros</td>\n",
       "            <td>1.977017175</td>\n",
       "        </tr>\n",
       "        <tr>\n",
       "            <td>Congo</td>\n",
       "            <td>1.599435005</td>\n",
       "        </tr>\n",
       "        <tr>\n",
       "            <td>Democratic Republic of the Congo</td>\n",
       "            <td>1.541245908</td>\n",
       "        </tr>\n",
       "        <tr>\n",
       "            <td>Ecuador</td>\n",
       "            <td>4.119247811</td>\n",
       "        </tr>\n",
       "        <tr>\n",
       "            <td>Egypt</td>\n",
       "            <td>4.832523196</td>\n",
       "        </tr>\n",
       "        <tr>\n",
       "            <td>El Salvador</td>\n",
       "            <td>2.549978338</td>\n",
       "        </tr>\n",
       "        <tr>\n",
       "            <td>Eswatini</td>\n",
       "            <td>1.995676511</td>\n",
       "        </tr>\n",
       "        <tr>\n",
       "            <td>Ethiopia</td>\n",
       "            <td>1.597210841</td>\n",
       "        </tr>\n",
       "        <tr>\n",
       "            <td>Gambia</td>\n",
       "            <td>3.044711378</td>\n",
       "        </tr>\n",
       "        <tr>\n",
       "            <td>Grenada</td>\n",
       "            <td>1.554478038</td>\n",
       "        </tr>\n",
       "        <tr>\n",
       "            <td>Guatemala</td>\n",
       "            <td>2.085477493</td>\n",
       "        </tr>\n",
       "        <tr>\n",
       "            <td>Guinea-Bissau</td>\n",
       "            <td>2.085633665</td>\n",
       "        </tr>\n",
       "        <tr>\n",
       "            <td>Guyana</td>\n",
       "            <td>1.93766595</td>\n",
       "        </tr>\n",
       "        <tr>\n",
       "            <td>Haiti</td>\n",
       "            <td>2.726766834</td>\n",
       "        </tr>\n",
       "        <tr>\n",
       "            <td>Honduras</td>\n",
       "            <td>2.583942507</td>\n",
       "        </tr>\n",
       "        <tr>\n",
       "            <td>Hungary</td>\n",
       "            <td>2.454430433</td>\n",
       "        </tr>\n",
       "        <tr>\n",
       "            <td>Indonesia</td>\n",
       "            <td>2.579543025</td>\n",
       "        </tr>\n",
       "        <tr>\n",
       "            <td>Iran</td>\n",
       "            <td>1.95761621</td>\n",
       "        </tr>\n",
       "        <tr>\n",
       "            <td>Jamaica</td>\n",
       "            <td>2.245926202</td>\n",
       "        </tr>\n",
       "        <tr>\n",
       "            <td>Kenya</td>\n",
       "            <td>1.746152467</td>\n",
       "        </tr>\n",
       "        <tr>\n",
       "            <td>Kyrgyzstan</td>\n",
       "            <td>1.488296644</td>\n",
       "        </tr>\n",
       "        <tr>\n",
       "            <td>Lesotho</td>\n",
       "            <td>2.117897296</td>\n",
       "        </tr>\n",
       "        <tr>\n",
       "            <td>Liberia</td>\n",
       "            <td>3.972972973</td>\n",
       "        </tr>\n",
       "        <tr>\n",
       "            <td>Madagascar</td>\n",
       "            <td>2.167056987</td>\n",
       "        </tr>\n",
       "        <tr>\n",
       "            <td>Malawi</td>\n",
       "            <td>3.065465073</td>\n",
       "        </tr>\n",
       "        <tr>\n",
       "            <td>Mali</td>\n",
       "            <td>2.387276603</td>\n",
       "        </tr>\n",
       "        <tr>\n",
       "            <td>Mauritania</td>\n",
       "            <td>1.673768536</td>\n",
       "        </tr>\n",
       "        <tr>\n",
       "            <td>Mauritius</td>\n",
       "            <td>2.642786939</td>\n",
       "        </tr>\n",
       "        <tr>\n",
       "            <td>Mexico</td>\n",
       "            <td>5.705040583</td>\n",
       "        </tr>\n",
       "        <tr>\n",
       "            <td>Moldova</td>\n",
       "            <td>2.225986437</td>\n",
       "        </tr>\n",
       "        <tr>\n",
       "            <td>Myanmar</td>\n",
       "            <td>3.175975485</td>\n",
       "        </tr>\n",
       "        <tr>\n",
       "            <td>Namibia</td>\n",
       "            <td>2.549382794</td>\n",
       "        </tr>\n",
       "        <tr>\n",
       "            <td>Niger</td>\n",
       "            <td>3.495630462</td>\n",
       "        </tr>\n",
       "        <tr>\n",
       "            <td>North Macedonia</td>\n",
       "            <td>3.009097727</td>\n",
       "        </tr>\n",
       "        <tr>\n",
       "            <td>Pakistan</td>\n",
       "            <td>1.990277069</td>\n",
       "        </tr>\n",
       "        <tr>\n",
       "            <td>Papua New Guinea</td>\n",
       "            <td>1.516479871</td>\n",
       "        </tr>\n",
       "        <tr>\n",
       "            <td>Paraguay</td>\n",
       "            <td>2.889012621</td>\n",
       "        </tr>\n",
       "        <tr>\n",
       "            <td>Peru</td>\n",
       "            <td>5.983499218</td>\n",
       "        </tr>\n",
       "        <tr>\n",
       "            <td>Philippines</td>\n",
       "            <td>1.612807227</td>\n",
       "        </tr>\n",
       "        <tr>\n",
       "            <td>Poland</td>\n",
       "            <td>1.932199716</td>\n",
       "        </tr>\n",
       "        <tr>\n",
       "            <td>Romania</td>\n",
       "            <td>2.275799327</td>\n",
       "        </tr>\n",
       "        <tr>\n",
       "            <td>Russia</td>\n",
       "            <td>2.065769504</td>\n",
       "        </tr>\n",
       "        <tr>\n",
       "            <td>Saint Lucia</td>\n",
       "            <td>1.589444348</td>\n",
       "        </tr>\n",
       "        <tr>\n",
       "            <td>Senegal</td>\n",
       "            <td>2.287037791</td>\n",
       "        </tr>\n",
       "        <tr>\n",
       "            <td>Sierra Leone</td>\n",
       "            <td>1.628876727</td>\n",
       "        </tr>\n",
       "        <tr>\n",
       "            <td>Somalia</td>\n",
       "            <td>5.106060606</td>\n",
       "        </tr>\n",
       "        <tr>\n",
       "            <td>South Africa</td>\n",
       "            <td>2.687382116</td>\n",
       "        </tr>\n",
       "        <tr>\n",
       "            <td>Sri Lanka</td>\n",
       "            <td>2.489610886</td>\n",
       "        </tr>\n",
       "        <tr>\n",
       "            <td>St. Vincent Grenadines</td>\n",
       "            <td>1.571301512</td>\n",
       "        </tr>\n",
       "        <tr>\n",
       "            <td>Sudan</td>\n",
       "            <td>7.920264708</td>\n",
       "        </tr>\n",
       "        <tr>\n",
       "            <td>Suriname</td>\n",
       "            <td>1.67230412</td>\n",
       "        </tr>\n",
       "        <tr>\n",
       "            <td>Syria</td>\n",
       "            <td>5.64340974</td>\n",
       "        </tr>\n",
       "        <tr>\n",
       "            <td>Taiwan</td>\n",
       "            <td>3.508844097</td>\n",
       "        </tr>\n",
       "        <tr>\n",
       "            <td>Tanzania</td>\n",
       "            <td>2.365813988</td>\n",
       "        </tr>\n",
       "        <tr>\n",
       "            <td>Trinidad and Tobago</td>\n",
       "            <td>2.713382698</td>\n",
       "        </tr>\n",
       "        <tr>\n",
       "            <td>Tunisia</td>\n",
       "            <td>2.734186453</td>\n",
       "        </tr>\n",
       "        <tr>\n",
       "            <td>Uganda</td>\n",
       "            <td>2.192928948</td>\n",
       "        </tr>\n",
       "        <tr>\n",
       "            <td>Ukraine</td>\n",
       "            <td>2.173125096</td>\n",
       "        </tr>\n",
       "        <tr>\n",
       "            <td>Wallis and Futuna</td>\n",
       "            <td>1.54185022</td>\n",
       "        </tr>\n",
       "        <tr>\n",
       "            <td>Western Sahara</td>\n",
       "            <td>10.0</td>\n",
       "        </tr>\n",
       "        <tr>\n",
       "            <td>Yemen</td>\n",
       "            <td>18.15178723</td>\n",
       "        </tr>\n",
       "        <tr>\n",
       "            <td>Zimbabwe</td>\n",
       "            <td>2.209106581</td>\n",
       "        </tr>\n",
       "    </tbody>\n",
       "</table>"
      ],
      "text/plain": [
       "[('Afghanistan', 4.313743132),\n",
       " ('Algeria', 2.587215976),\n",
       " ('Angola', 1.915438434),\n",
       " ('Antigua and Barbuda', 1.801681569),\n",
       " ('Armenia', 2.039169471),\n",
       " ('Bahamas', 2.36672173),\n",
       " ('Bangladesh', 1.492081546),\n",
       " ('Bolivia', 2.426289382),\n",
       " ('Bosnia and Herzegovina', 4.184001299),\n",
       " ('Brazil', 2.200910166),\n",
       " ('Bulgaria', 3.205809873),\n",
       " ('Burkina Faso', 1.831870714),\n",
       " ('Cambodia', 2.249773476),\n",
       " ('Cameroon', 1.611958777),\n",
       " ('Chad', 2.613574165),\n",
       " ('Chile', 1.627635443),\n",
       " ('China', 2.99732451),\n",
       " ('Colombia', 2.294802796),\n",
       " ('Comoros', 1.977017175),\n",
       " ('Congo', 1.599435005),\n",
       " ('Democratic Republic of the Congo', 1.541245908),\n",
       " ('Ecuador', 4.119247811),\n",
       " ('Egypt', 4.832523196),\n",
       " ('El Salvador', 2.549978338),\n",
       " ('Eswatini', 1.995676511),\n",
       " ('Ethiopia', 1.597210841),\n",
       " ('Gambia', 3.044711378),\n",
       " ('Grenada', 1.554478038),\n",
       " ('Guatemala', 2.085477493),\n",
       " ('Guinea-Bissau', 2.085633665),\n",
       " ('Guyana', 1.93766595),\n",
       " ('Haiti', 2.726766834),\n",
       " ('Honduras', 2.583942507),\n",
       " ('Hungary', 2.454430433),\n",
       " ('Indonesia', 2.579543025),\n",
       " ('Iran', 1.95761621),\n",
       " ('Jamaica', 2.245926202),\n",
       " ('Kenya', 1.746152467),\n",
       " ('Kyrgyzstan', 1.488296644),\n",
       " ('Lesotho', 2.117897296),\n",
       " ('Liberia', 3.972972973),\n",
       " ('Madagascar', 2.167056987),\n",
       " ('Malawi', 3.065465073),\n",
       " ('Mali', 2.387276603),\n",
       " ('Mauritania', 1.673768536),\n",
       " ('Mauritius', 2.642786939),\n",
       " ('Mexico', 5.705040583),\n",
       " ('Moldova', 2.225986437),\n",
       " ('Myanmar', 3.175975485),\n",
       " ('Namibia', 2.549382794),\n",
       " ('Niger', 3.495630462),\n",
       " ('North Macedonia', 3.009097727),\n",
       " ('Pakistan', 1.990277069),\n",
       " ('Papua New Guinea', 1.516479871),\n",
       " ('Paraguay', 2.889012621),\n",
       " ('Peru', 5.983499218),\n",
       " ('Philippines', 1.612807227),\n",
       " ('Poland', 1.932199716),\n",
       " ('Romania', 2.275799327),\n",
       " ('Russia', 2.065769504),\n",
       " ('Saint Lucia', 1.589444348),\n",
       " ('Senegal', 2.287037791),\n",
       " ('Sierra Leone', 1.628876727),\n",
       " ('Somalia', 5.106060606),\n",
       " ('South Africa', 2.687382116),\n",
       " ('Sri Lanka', 2.489610886),\n",
       " ('St. Vincent Grenadines', 1.571301512),\n",
       " ('Sudan', 7.920264708),\n",
       " ('Suriname', 1.67230412),\n",
       " ('Syria', 5.64340974),\n",
       " ('Taiwan', 3.508844097),\n",
       " ('Tanzania', 2.365813988),\n",
       " ('Trinidad and Tobago', 2.713382698),\n",
       " ('Tunisia', 2.734186453),\n",
       " ('Uganda', 2.192928948),\n",
       " ('Ukraine', 2.173125096),\n",
       " ('Wallis and Futuna', 1.54185022),\n",
       " ('Western Sahara', 10.0),\n",
       " ('Yemen', 18.15178723),\n",
       " ('Zimbabwe', 2.209106581)]"
      ]
     },
     "execution_count": 27,
     "metadata": {},
     "output_type": "execute_result"
    }
   ],
   "source": [
    "%%sql\n",
    "\n",
    "SELECT \n",
    "    country,\n",
    "    death_percentage\n",
    "FROM covid_data\n",
    "WHERE death_percentage > ( SELECT \n",
    "                               ROUND(AVG(death_percentage),4) AS overall_avg_death_perc\n",
    "                           FROM covid_data);\n"
   ]
  },
  {
   "cell_type": "markdown",
   "id": "cbedfbd1",
   "metadata": {
    "papermill": {
     "duration": 0.019735,
     "end_time": "2024-03-22T16:51:47.825328",
     "exception": false,
     "start_time": "2024-03-22T16:51:47.805593",
     "status": "completed"
    },
    "tags": []
   },
   "source": [
    "### <font color=indigo> 8. Find the Countries with Total Cases above the Average of their Respective Continents"
   ]
  },
  {
   "cell_type": "code",
   "execution_count": 28,
   "id": "b95512d3",
   "metadata": {
    "execution": {
     "iopub.execute_input": "2024-03-22T16:51:47.867948Z",
     "iopub.status.busy": "2024-03-22T16:51:47.867442Z",
     "iopub.status.idle": "2024-03-22T16:51:47.880425Z",
     "shell.execute_reply": "2024-03-22T16:51:47.879314Z"
    },
    "papermill": {
     "duration": 0.036869,
     "end_time": "2024-03-22T16:51:47.882872",
     "exception": false,
     "start_time": "2024-03-22T16:51:47.846003",
     "status": "completed"
    },
    "tags": []
   },
   "outputs": [
    {
     "name": "stdout",
     "output_type": "stream",
     "text": [
      " * sqlite:///covid_db\n",
      "Done.\n"
     ]
    },
    {
     "data": {
      "text/html": [
       "<table>\n",
       "    <thead>\n",
       "        <tr>\n",
       "            <th>country</th>\n",
       "        </tr>\n",
       "    </thead>\n",
       "    <tbody>\n",
       "    </tbody>\n",
       "</table>"
      ],
      "text/plain": [
       "[]"
      ]
     },
     "execution_count": 28,
     "metadata": {},
     "output_type": "execute_result"
    }
   ],
   "source": [
    "%%sql\n",
    "WITH continent_cases AS (\n",
    "    SELECT\n",
    "        continent,\n",
    "        SUM(total_cases) AS continent_total_cases\n",
    "    FROM covid_data\n",
    "    GROUP BY 1\n",
    ")\n",
    "\n",
    "SELECT \n",
    "    country\n",
    "FROM covid_data\n",
    "    WHERE total_cases > ( SELECT\n",
    "                            AVG(continent_total_cases) \n",
    "                          FROM continent_cases);\n"
   ]
  },
  {
   "cell_type": "markdown",
   "id": "68b16497",
   "metadata": {
    "papermill": {
     "duration": 0.020533,
     "end_time": "2024-03-22T16:51:47.923918",
     "exception": false,
     "start_time": "2024-03-22T16:51:47.903385",
     "status": "completed"
    },
    "tags": []
   },
   "source": [
    "### <font color=indigo> 9. Find the Top 5 Countries with the Highest Death Percentage in each Continent"
   ]
  },
  {
   "cell_type": "code",
   "execution_count": 29,
   "id": "5f916c31",
   "metadata": {
    "execution": {
     "iopub.execute_input": "2024-03-22T16:51:47.967445Z",
     "iopub.status.busy": "2024-03-22T16:51:47.966944Z",
     "iopub.status.idle": "2024-03-22T16:51:47.983540Z",
     "shell.execute_reply": "2024-03-22T16:51:47.982408Z"
    },
    "papermill": {
     "duration": 0.041336,
     "end_time": "2024-03-22T16:51:47.986306",
     "exception": false,
     "start_time": "2024-03-22T16:51:47.944970",
     "status": "completed"
    },
    "tags": []
   },
   "outputs": [
    {
     "name": "stdout",
     "output_type": "stream",
     "text": [
      " * sqlite:///covid_db\n",
      "Done.\n"
     ]
    },
    {
     "data": {
      "text/html": [
       "<table>\n",
       "    <thead>\n",
       "        <tr>\n",
       "            <th>continent</th>\n",
       "            <th>country</th>\n",
       "            <th>death_percentage</th>\n",
       "        </tr>\n",
       "    </thead>\n",
       "    <tbody>\n",
       "        <tr>\n",
       "            <td>Africa</td>\n",
       "            <td>Western Sahara</td>\n",
       "            <td>10.0</td>\n",
       "        </tr>\n",
       "        <tr>\n",
       "            <td>Africa</td>\n",
       "            <td>Sudan</td>\n",
       "            <td>7.920264708</td>\n",
       "        </tr>\n",
       "        <tr>\n",
       "            <td>Africa</td>\n",
       "            <td>Somalia</td>\n",
       "            <td>5.106060606</td>\n",
       "        </tr>\n",
       "        <tr>\n",
       "            <td>Africa</td>\n",
       "            <td>Egypt</td>\n",
       "            <td>4.832523196</td>\n",
       "        </tr>\n",
       "        <tr>\n",
       "            <td>Africa</td>\n",
       "            <td>Liberia</td>\n",
       "            <td>3.972972973</td>\n",
       "        </tr>\n",
       "        <tr>\n",
       "            <td>Asia</td>\n",
       "            <td>Yemen</td>\n",
       "            <td>18.15178723</td>\n",
       "        </tr>\n",
       "        <tr>\n",
       "            <td>Asia</td>\n",
       "            <td>Syria</td>\n",
       "            <td>5.64340974</td>\n",
       "        </tr>\n",
       "        <tr>\n",
       "            <td>Asia</td>\n",
       "            <td>Afghanistan</td>\n",
       "            <td>4.313743132</td>\n",
       "        </tr>\n",
       "        <tr>\n",
       "            <td>Asia</td>\n",
       "            <td>Taiwan</td>\n",
       "            <td>3.508844097</td>\n",
       "        </tr>\n",
       "        <tr>\n",
       "            <td>Asia</td>\n",
       "            <td>Myanmar</td>\n",
       "            <td>3.175975485</td>\n",
       "        </tr>\n",
       "        <tr>\n",
       "            <td>Europe</td>\n",
       "            <td>Bosnia and Herzegovina</td>\n",
       "            <td>4.184001299</td>\n",
       "        </tr>\n",
       "        <tr>\n",
       "            <td>Europe</td>\n",
       "            <td>Bulgaria</td>\n",
       "            <td>3.205809873</td>\n",
       "        </tr>\n",
       "        <tr>\n",
       "            <td>Europe</td>\n",
       "            <td>North Macedonia</td>\n",
       "            <td>3.009097727</td>\n",
       "        </tr>\n",
       "        <tr>\n",
       "            <td>Europe</td>\n",
       "            <td>Hungary</td>\n",
       "            <td>2.454430433</td>\n",
       "        </tr>\n",
       "        <tr>\n",
       "            <td>Europe</td>\n",
       "            <td>Romania</td>\n",
       "            <td>2.275799327</td>\n",
       "        </tr>\n",
       "        <tr>\n",
       "            <td>Latin America and the Caribbean</td>\n",
       "            <td>Peru</td>\n",
       "            <td>5.983499218</td>\n",
       "        </tr>\n",
       "        <tr>\n",
       "            <td>Latin America and the Caribbean</td>\n",
       "            <td>Mexico</td>\n",
       "            <td>5.705040583</td>\n",
       "        </tr>\n",
       "        <tr>\n",
       "            <td>Latin America and the Caribbean</td>\n",
       "            <td>Ecuador</td>\n",
       "            <td>4.119247811</td>\n",
       "        </tr>\n",
       "        <tr>\n",
       "            <td>Latin America and the Caribbean</td>\n",
       "            <td>Paraguay</td>\n",
       "            <td>2.889012621</td>\n",
       "        </tr>\n",
       "        <tr>\n",
       "            <td>Latin America and the Caribbean</td>\n",
       "            <td>Haiti</td>\n",
       "            <td>2.726766834</td>\n",
       "        </tr>\n",
       "        <tr>\n",
       "            <td>Northern America</td>\n",
       "            <td>USA</td>\n",
       "            <td>1.231957086</td>\n",
       "        </tr>\n",
       "        <tr>\n",
       "            <td>Northern America</td>\n",
       "            <td>Canada</td>\n",
       "            <td>1.077095335</td>\n",
       "        </tr>\n",
       "        <tr>\n",
       "            <td>Northern America</td>\n",
       "            <td>Bermuda</td>\n",
       "            <td>1.018783827</td>\n",
       "        </tr>\n",
       "        <tr>\n",
       "            <td>Northern America</td>\n",
       "            <td>Greenland</td>\n",
       "            <td>0.175423941</td>\n",
       "        </tr>\n",
       "        <tr>\n",
       "            <td>Northern America</td>\n",
       "            <td>Saint Pierre Miquelon</td>\n",
       "            <td>0.05109862</td>\n",
       "        </tr>\n",
       "        <tr>\n",
       "            <td>Oceania</td>\n",
       "            <td>Wallis and Futuna</td>\n",
       "            <td>1.54185022</td>\n",
       "        </tr>\n",
       "        <tr>\n",
       "            <td>Oceania</td>\n",
       "            <td>Papua New Guinea</td>\n",
       "            <td>1.516479871</td>\n",
       "        </tr>\n",
       "        <tr>\n",
       "            <td>Oceania</td>\n",
       "            <td>Fiji</td>\n",
       "            <td>1.294588805</td>\n",
       "        </tr>\n",
       "        <tr>\n",
       "            <td>Oceania</td>\n",
       "            <td>Solomon Islands</td>\n",
       "            <td>1.159546643</td>\n",
       "        </tr>\n",
       "        <tr>\n",
       "            <td>Oceania</td>\n",
       "            <td>French Polynesia</td>\n",
       "            <td>0.893276916</td>\n",
       "        </tr>\n",
       "    </tbody>\n",
       "</table>"
      ],
      "text/plain": [
       "[('Africa', 'Western Sahara', 10.0),\n",
       " ('Africa', 'Sudan', 7.920264708),\n",
       " ('Africa', 'Somalia', 5.106060606),\n",
       " ('Africa', 'Egypt', 4.832523196),\n",
       " ('Africa', 'Liberia', 3.972972973),\n",
       " ('Asia', 'Yemen', 18.15178723),\n",
       " ('Asia', 'Syria', 5.64340974),\n",
       " ('Asia', 'Afghanistan', 4.313743132),\n",
       " ('Asia', 'Taiwan', 3.508844097),\n",
       " ('Asia', 'Myanmar', 3.175975485),\n",
       " ('Europe', 'Bosnia and Herzegovina', 4.184001299),\n",
       " ('Europe', 'Bulgaria', 3.205809873),\n",
       " ('Europe', 'North Macedonia', 3.009097727),\n",
       " ('Europe', 'Hungary', 2.454430433),\n",
       " ('Europe', 'Romania', 2.275799327),\n",
       " ('Latin America and the Caribbean', 'Peru', 5.983499218),\n",
       " ('Latin America and the Caribbean', 'Mexico', 5.705040583),\n",
       " ('Latin America and the Caribbean', 'Ecuador', 4.119247811),\n",
       " ('Latin America and the Caribbean', 'Paraguay', 2.889012621),\n",
       " ('Latin America and the Caribbean', 'Haiti', 2.726766834),\n",
       " ('Northern America', 'USA', 1.231957086),\n",
       " ('Northern America', 'Canada', 1.077095335),\n",
       " ('Northern America', 'Bermuda', 1.018783827),\n",
       " ('Northern America', 'Greenland', 0.175423941),\n",
       " ('Northern America', 'Saint Pierre Miquelon', 0.05109862),\n",
       " ('Oceania', 'Wallis and Futuna', 1.54185022),\n",
       " ('Oceania', 'Papua New Guinea', 1.516479871),\n",
       " ('Oceania', 'Fiji', 1.294588805),\n",
       " ('Oceania', 'Solomon Islands', 1.159546643),\n",
       " ('Oceania', 'French Polynesia', 0.893276916)]"
      ]
     },
     "execution_count": 29,
     "metadata": {},
     "output_type": "execute_result"
    }
   ],
   "source": [
    "%%sql\n",
    "WITH continent_deaths_rank AS (\n",
    "    SELECT \n",
    "        continent,\n",
    "        country,\n",
    "        death_percentage,\n",
    "        RANK()OVER(\n",
    "            PARTITION BY continent \n",
    "            ORDER BY death_percentage DESC)AS rnk\n",
    "    FROM covid_data\n",
    ")\n",
    "SELECT\n",
    "    continent, \n",
    "    country,\n",
    "    death_percentage\n",
    "FROM continent_deaths_rank\n",
    "WHERE rnk <= 5;"
   ]
  },
  {
   "cell_type": "markdown",
   "id": "9cfb97a9",
   "metadata": {
    "papermill": {
     "duration": 0.021969,
     "end_time": "2024-03-22T16:51:48.029364",
     "exception": false,
     "start_time": "2024-03-22T16:51:48.007395",
     "status": "completed"
    },
    "tags": []
   },
   "source": [
    "### <font color=indigo> 10. Find the Total Population for each Continent and the Percentage of the World Population"
   ]
  },
  {
   "cell_type": "code",
   "execution_count": 30,
   "id": "98cb4188",
   "metadata": {
    "execution": {
     "iopub.execute_input": "2024-03-22T16:51:48.076819Z",
     "iopub.status.busy": "2024-03-22T16:51:48.076353Z",
     "iopub.status.idle": "2024-03-22T16:51:48.091397Z",
     "shell.execute_reply": "2024-03-22T16:51:48.089909Z"
    },
    "papermill": {
     "duration": 0.042314,
     "end_time": "2024-03-22T16:51:48.094126",
     "exception": false,
     "start_time": "2024-03-22T16:51:48.051812",
     "status": "completed"
    },
    "tags": []
   },
   "outputs": [
    {
     "name": "stdout",
     "output_type": "stream",
     "text": [
      " * sqlite:///covid_db\n",
      "Done.\n"
     ]
    },
    {
     "data": {
      "text/html": [
       "<table>\n",
       "    <thead>\n",
       "        <tr>\n",
       "            <th>continent</th>\n",
       "            <th>total_population</th>\n",
       "            <th>perc_of_world_pop</th>\n",
       "        </tr>\n",
       "    </thead>\n",
       "    <tbody>\n",
       "        <tr>\n",
       "            <td>Africa</td>\n",
       "            <td>1396751613</td>\n",
       "            <td>17.7</td>\n",
       "        </tr>\n",
       "        <tr>\n",
       "            <td>Asia</td>\n",
       "            <td>4668689344</td>\n",
       "            <td>59.16</td>\n",
       "        </tr>\n",
       "        <tr>\n",
       "            <td>Europe</td>\n",
       "            <td>748420351</td>\n",
       "            <td>9.48</td>\n",
       "        </tr>\n",
       "        <tr>\n",
       "            <td>Latin America and the Caribbean</td>\n",
       "            <td>661325824</td>\n",
       "            <td>8.38</td>\n",
       "        </tr>\n",
       "        <tr>\n",
       "            <td>Northern America</td>\n",
       "            <td>372846593</td>\n",
       "            <td>4.72</td>\n",
       "        </tr>\n",
       "        <tr>\n",
       "            <td>Oceania</td>\n",
       "            <td>43437948</td>\n",
       "            <td>0.55</td>\n",
       "        </tr>\n",
       "    </tbody>\n",
       "</table>"
      ],
      "text/plain": [
       "[('Africa', 1396751613, 17.7),\n",
       " ('Asia', 4668689344, 59.16),\n",
       " ('Europe', 748420351, 9.48),\n",
       " ('Latin America and the Caribbean', 661325824, 8.38),\n",
       " ('Northern America', 372846593, 4.72),\n",
       " ('Oceania', 43437948, 0.55)]"
      ]
     },
     "execution_count": 30,
     "metadata": {},
     "output_type": "execute_result"
    }
   ],
   "source": [
    "%%sql\n",
    "WITH continent_pop AS (\n",
    "    SELECT\n",
    "        continent,\n",
    "        SUM(population) AS total_population\n",
    "    FROM covid_data\n",
    "    GROUP BY 1\n",
    "    ORDER BY 1\n",
    ")\n",
    "\n",
    "SELECT \n",
    "    continent,\n",
    "    total_population,\n",
    "    ROUND((total_population * 1.0)/(SELECT SUM(population) FROM covid_data) * 100,2) AS perc_of_world_pop\n",
    "FROM continent_pop\n",
    "\n",
    "\n",
    "\n",
    "\n",
    "--  (SELECT SUM(population) FROM covid_data) AS world_population"
   ]
  }
 ],
 "metadata": {
  "kaggle": {
   "accelerator": "none",
   "dataSources": [
    {
     "datasetId": 2055575,
     "sourceId": 3410294,
     "sourceType": "datasetVersion"
    }
   ],
   "dockerImageVersionId": 30664,
   "isGpuEnabled": false,
   "isInternetEnabled": true,
   "language": "python",
   "sourceType": "notebook"
  },
  "kernelspec": {
   "display_name": "Python 3",
   "language": "python",
   "name": "python3"
  },
  "language_info": {
   "codemirror_mode": {
    "name": "ipython",
    "version": 3
   },
   "file_extension": ".py",
   "mimetype": "text/x-python",
   "name": "python",
   "nbconvert_exporter": "python",
   "pygments_lexer": "ipython3",
   "version": "3.10.13"
  },
  "papermill": {
   "default_parameters": {},
   "duration": 26.246156,
   "end_time": "2024-03-22T16:51:48.941036",
   "environment_variables": {},
   "exception": null,
   "input_path": "__notebook__.ipynb",
   "output_path": "__notebook__.ipynb",
   "parameters": {},
   "start_time": "2024-03-22T16:51:22.694880",
   "version": "2.5.0"
  }
 },
 "nbformat": 4,
 "nbformat_minor": 5
}
